{
 "cells": [
  {
   "cell_type": "markdown",
   "id": "a13bbc3b",
   "metadata": {},
   "source": [
    "# Getting Data from DB"
   ]
  },
  {
   "cell_type": "code",
   "execution_count": 3,
   "id": "f2af46d0",
   "metadata": {},
   "outputs": [],
   "source": [
    "#importing Teh necessary Library\n",
    "\n",
    "import numpy as  np\n",
    "import pandas as pd\n",
    "import seaborn as sns\n",
    "import matplotlib.pyplot as plt\n",
    "import pyodbc as py\n",
    "from collections import Counter"
   ]
  },
  {
   "cell_type": "code",
   "execution_count": 4,
   "id": "b6b69f0c",
   "metadata": {},
   "outputs": [],
   "source": [
    "#connecting to the DB\n",
    "\n",
    "connn=py.connect(r'DRIVER={SQL Server};SERVER=DESKTOP-312N3KJ\\YEKINI;DATABASE=AdventureWorks2014;Trusted_Connection=yes;')"
   ]
  },
  {
   "cell_type": "code",
   "execution_count": 5,
   "id": "72d60eca",
   "metadata": {},
   "outputs": [],
   "source": [
    "#The cursor connect\n",
    "\n",
    "cursor=connn.cursor()"
   ]
  },
  {
   "cell_type": "code",
   "execution_count": 7,
   "id": "8567ac1a",
   "metadata": {},
   "outputs": [
    {
     "name": "stderr",
     "output_type": "stream",
     "text": [
      "C:\\Users\\HP\\anaconda3\\lib\\site-packages\\pandas\\io\\sql.py:762: UserWarning: pandas only support SQLAlchemy connectable(engine/connection) ordatabase string URI or sqlite3 DBAPI2 connectionother DBAPI2 objects are not tested, please consider using SQLAlchemy\n",
      "  warnings.warn(\n"
     ]
    }
   ],
   "source": [
    "#getting the data from Table\n",
    "\n",
    "data_1=pd.read_sql_query('Select * from HumanResources.EmployeeDepartmentHistory',connn)"
   ]
  },
  {
   "cell_type": "code",
   "execution_count": 8,
   "id": "dd53f9f2",
   "metadata": {},
   "outputs": [],
   "source": [
    "#creating a dataframe for the raw data\n",
    "\n",
    "df=pd.DataFrame(data)"
   ]
  },
  {
   "cell_type": "code",
   "execution_count": 9,
   "id": "192c2699",
   "metadata": {},
   "outputs": [],
   "source": [
    "#imported Other Data\n",
    "\n",
    "df_1=pd.DataFrame(data_1)"
   ]
  },
  {
   "cell_type": "code",
   "execution_count": 10,
   "id": "08c8911b",
   "metadata": {},
   "outputs": [
    {
     "data": {
      "text/html": [
       "<div>\n",
       "<style scoped>\n",
       "    .dataframe tbody tr th:only-of-type {\n",
       "        vertical-align: middle;\n",
       "    }\n",
       "\n",
       "    .dataframe tbody tr th {\n",
       "        vertical-align: top;\n",
       "    }\n",
       "\n",
       "    .dataframe thead th {\n",
       "        text-align: right;\n",
       "    }\n",
       "</style>\n",
       "<table border=\"1\" class=\"dataframe\">\n",
       "  <thead>\n",
       "    <tr style=\"text-align: right;\">\n",
       "      <th></th>\n",
       "      <th>DepartmentID</th>\n",
       "      <th>Name</th>\n",
       "      <th>GroupName</th>\n",
       "      <th>ModifiedDate</th>\n",
       "    </tr>\n",
       "  </thead>\n",
       "  <tbody>\n",
       "    <tr>\n",
       "      <th>0</th>\n",
       "      <td>1</td>\n",
       "      <td>Engineering</td>\n",
       "      <td>Research and Development</td>\n",
       "      <td>2008-04-30</td>\n",
       "    </tr>\n",
       "    <tr>\n",
       "      <th>1</th>\n",
       "      <td>2</td>\n",
       "      <td>Tool Design</td>\n",
       "      <td>Research and Development</td>\n",
       "      <td>2008-04-30</td>\n",
       "    </tr>\n",
       "    <tr>\n",
       "      <th>2</th>\n",
       "      <td>3</td>\n",
       "      <td>Sales</td>\n",
       "      <td>Sales and Marketing</td>\n",
       "      <td>2008-04-30</td>\n",
       "    </tr>\n",
       "    <tr>\n",
       "      <th>3</th>\n",
       "      <td>4</td>\n",
       "      <td>Marketing</td>\n",
       "      <td>Sales and Marketing</td>\n",
       "      <td>2008-04-30</td>\n",
       "    </tr>\n",
       "    <tr>\n",
       "      <th>4</th>\n",
       "      <td>5</td>\n",
       "      <td>Purchasing</td>\n",
       "      <td>Inventory Management</td>\n",
       "      <td>2008-04-30</td>\n",
       "    </tr>\n",
       "  </tbody>\n",
       "</table>\n",
       "</div>"
      ],
      "text/plain": [
       "   DepartmentID         Name                 GroupName ModifiedDate\n",
       "0             1  Engineering  Research and Development   2008-04-30\n",
       "1             2  Tool Design  Research and Development   2008-04-30\n",
       "2             3        Sales       Sales and Marketing   2008-04-30\n",
       "3             4    Marketing       Sales and Marketing   2008-04-30\n",
       "4             5   Purchasing      Inventory Management   2008-04-30"
      ]
     },
     "execution_count": 10,
     "metadata": {},
     "output_type": "execute_result"
    }
   ],
   "source": [
    "#The A Data\n",
    "\n",
    "df.head()"
   ]
  },
  {
   "cell_type": "code",
   "execution_count": 11,
   "id": "5ba9c1fb",
   "metadata": {},
   "outputs": [
    {
     "data": {
      "text/html": [
       "<div>\n",
       "<style scoped>\n",
       "    .dataframe tbody tr th:only-of-type {\n",
       "        vertical-align: middle;\n",
       "    }\n",
       "\n",
       "    .dataframe tbody tr th {\n",
       "        vertical-align: top;\n",
       "    }\n",
       "\n",
       "    .dataframe thead th {\n",
       "        text-align: right;\n",
       "    }\n",
       "</style>\n",
       "<table border=\"1\" class=\"dataframe\">\n",
       "  <thead>\n",
       "    <tr style=\"text-align: right;\">\n",
       "      <th></th>\n",
       "      <th>BusinessEntityID</th>\n",
       "      <th>DepartmentID</th>\n",
       "      <th>ShiftID</th>\n",
       "      <th>StartDate</th>\n",
       "      <th>EndDate</th>\n",
       "      <th>ModifiedDate</th>\n",
       "    </tr>\n",
       "  </thead>\n",
       "  <tbody>\n",
       "    <tr>\n",
       "      <th>0</th>\n",
       "      <td>1</td>\n",
       "      <td>16</td>\n",
       "      <td>1</td>\n",
       "      <td>2009-01-14</td>\n",
       "      <td>None</td>\n",
       "      <td>2009-01-13</td>\n",
       "    </tr>\n",
       "    <tr>\n",
       "      <th>1</th>\n",
       "      <td>2</td>\n",
       "      <td>1</td>\n",
       "      <td>1</td>\n",
       "      <td>2008-01-31</td>\n",
       "      <td>None</td>\n",
       "      <td>2008-01-30</td>\n",
       "    </tr>\n",
       "    <tr>\n",
       "      <th>2</th>\n",
       "      <td>3</td>\n",
       "      <td>1</td>\n",
       "      <td>1</td>\n",
       "      <td>2007-11-11</td>\n",
       "      <td>None</td>\n",
       "      <td>2007-11-10</td>\n",
       "    </tr>\n",
       "    <tr>\n",
       "      <th>3</th>\n",
       "      <td>4</td>\n",
       "      <td>1</td>\n",
       "      <td>1</td>\n",
       "      <td>2007-12-05</td>\n",
       "      <td>2010-05-30</td>\n",
       "      <td>2010-05-28</td>\n",
       "    </tr>\n",
       "    <tr>\n",
       "      <th>4</th>\n",
       "      <td>4</td>\n",
       "      <td>2</td>\n",
       "      <td>1</td>\n",
       "      <td>2010-05-31</td>\n",
       "      <td>None</td>\n",
       "      <td>2010-05-30</td>\n",
       "    </tr>\n",
       "  </tbody>\n",
       "</table>\n",
       "</div>"
      ],
      "text/plain": [
       "   BusinessEntityID  DepartmentID  ShiftID   StartDate     EndDate  \\\n",
       "0                 1            16        1  2009-01-14        None   \n",
       "1                 2             1        1  2008-01-31        None   \n",
       "2                 3             1        1  2007-11-11        None   \n",
       "3                 4             1        1  2007-12-05  2010-05-30   \n",
       "4                 4             2        1  2010-05-31        None   \n",
       "\n",
       "  ModifiedDate  \n",
       "0   2009-01-13  \n",
       "1   2008-01-30  \n",
       "2   2007-11-10  \n",
       "3   2010-05-28  \n",
       "4   2010-05-30  "
      ]
     },
     "execution_count": 11,
     "metadata": {},
     "output_type": "execute_result"
    }
   ],
   "source": [
    "#the B data\n",
    "\n",
    "df_1.head()"
   ]
  },
  {
   "cell_type": "code",
   "execution_count": 12,
   "id": "767ce7a1",
   "metadata": {},
   "outputs": [],
   "source": [
    "# we merge The two Table together.\n",
    "\n",
    "ddf=df.merge(df_1,on='DepartmentID')"
   ]
  },
  {
   "cell_type": "code",
   "execution_count": 13,
   "id": "c5bbc383",
   "metadata": {},
   "outputs": [
    {
     "data": {
      "text/html": [
       "<div>\n",
       "<style scoped>\n",
       "    .dataframe tbody tr th:only-of-type {\n",
       "        vertical-align: middle;\n",
       "    }\n",
       "\n",
       "    .dataframe tbody tr th {\n",
       "        vertical-align: top;\n",
       "    }\n",
       "\n",
       "    .dataframe thead th {\n",
       "        text-align: right;\n",
       "    }\n",
       "</style>\n",
       "<table border=\"1\" class=\"dataframe\">\n",
       "  <thead>\n",
       "    <tr style=\"text-align: right;\">\n",
       "      <th></th>\n",
       "      <th>DepartmentID</th>\n",
       "      <th>Name</th>\n",
       "      <th>GroupName</th>\n",
       "      <th>ModifiedDate_x</th>\n",
       "      <th>BusinessEntityID</th>\n",
       "      <th>ShiftID</th>\n",
       "      <th>StartDate</th>\n",
       "      <th>EndDate</th>\n",
       "      <th>ModifiedDate_y</th>\n",
       "    </tr>\n",
       "  </thead>\n",
       "  <tbody>\n",
       "    <tr>\n",
       "      <th>0</th>\n",
       "      <td>1</td>\n",
       "      <td>Engineering</td>\n",
       "      <td>Research and Development</td>\n",
       "      <td>2008-04-30</td>\n",
       "      <td>2</td>\n",
       "      <td>1</td>\n",
       "      <td>2008-01-31</td>\n",
       "      <td>None</td>\n",
       "      <td>2008-01-30</td>\n",
       "    </tr>\n",
       "    <tr>\n",
       "      <th>1</th>\n",
       "      <td>1</td>\n",
       "      <td>Engineering</td>\n",
       "      <td>Research and Development</td>\n",
       "      <td>2008-04-30</td>\n",
       "      <td>3</td>\n",
       "      <td>1</td>\n",
       "      <td>2007-11-11</td>\n",
       "      <td>None</td>\n",
       "      <td>2007-11-10</td>\n",
       "    </tr>\n",
       "    <tr>\n",
       "      <th>2</th>\n",
       "      <td>1</td>\n",
       "      <td>Engineering</td>\n",
       "      <td>Research and Development</td>\n",
       "      <td>2008-04-30</td>\n",
       "      <td>4</td>\n",
       "      <td>1</td>\n",
       "      <td>2007-12-05</td>\n",
       "      <td>2010-05-30</td>\n",
       "      <td>2010-05-28</td>\n",
       "    </tr>\n",
       "    <tr>\n",
       "      <th>3</th>\n",
       "      <td>1</td>\n",
       "      <td>Engineering</td>\n",
       "      <td>Research and Development</td>\n",
       "      <td>2008-04-30</td>\n",
       "      <td>5</td>\n",
       "      <td>1</td>\n",
       "      <td>2008-01-06</td>\n",
       "      <td>None</td>\n",
       "      <td>2008-01-05</td>\n",
       "    </tr>\n",
       "    <tr>\n",
       "      <th>4</th>\n",
       "      <td>1</td>\n",
       "      <td>Engineering</td>\n",
       "      <td>Research and Development</td>\n",
       "      <td>2008-04-30</td>\n",
       "      <td>6</td>\n",
       "      <td>1</td>\n",
       "      <td>2008-01-24</td>\n",
       "      <td>None</td>\n",
       "      <td>2008-01-23</td>\n",
       "    </tr>\n",
       "  </tbody>\n",
       "</table>\n",
       "</div>"
      ],
      "text/plain": [
       "   DepartmentID         Name                 GroupName ModifiedDate_x  \\\n",
       "0             1  Engineering  Research and Development     2008-04-30   \n",
       "1             1  Engineering  Research and Development     2008-04-30   \n",
       "2             1  Engineering  Research and Development     2008-04-30   \n",
       "3             1  Engineering  Research and Development     2008-04-30   \n",
       "4             1  Engineering  Research and Development     2008-04-30   \n",
       "\n",
       "   BusinessEntityID  ShiftID   StartDate     EndDate ModifiedDate_y  \n",
       "0                 2        1  2008-01-31        None     2008-01-30  \n",
       "1                 3        1  2007-11-11        None     2007-11-10  \n",
       "2                 4        1  2007-12-05  2010-05-30     2010-05-28  \n",
       "3                 5        1  2008-01-06        None     2008-01-05  \n",
       "4                 6        1  2008-01-24        None     2008-01-23  "
      ]
     },
     "execution_count": 13,
     "metadata": {},
     "output_type": "execute_result"
    }
   ],
   "source": [
    "ddf.head()"
   ]
  },
  {
   "cell_type": "code",
   "execution_count": 14,
   "id": "cf1f27fe",
   "metadata": {},
   "outputs": [
    {
     "data": {
      "text/plain": [
       "DepartmentID          0\n",
       "Name                  0\n",
       "GroupName             0\n",
       "ModifiedDate_x        0\n",
       "BusinessEntityID      0\n",
       "ShiftID               0\n",
       "StartDate             0\n",
       "EndDate             290\n",
       "ModifiedDate_y        0\n",
       "dtype: int64"
      ]
     },
     "execution_count": 14,
     "metadata": {},
     "output_type": "execute_result"
    }
   ],
   "source": [
    "#Missing Data ✔\n",
    "\n",
    "ddf.isnull().sum()"
   ]
  },
  {
   "cell_type": "code",
   "execution_count": 15,
   "id": "4bc919d9",
   "metadata": {},
   "outputs": [
    {
     "data": {
      "text/plain": [
       "(296, 9)"
      ]
     },
     "execution_count": 15,
     "metadata": {},
     "output_type": "execute_result"
    }
   ],
   "source": [
    "#the shape of the Data\n",
    "\n",
    "ddf.shape"
   ]
  },
  {
   "cell_type": "code",
   "execution_count": 16,
   "id": "7e8f7d96",
   "metadata": {},
   "outputs": [],
   "source": [
    "#Drop the Missing Data\n",
    "\n",
    "ddf=ddf.drop('EndDate',axis=1)"
   ]
  },
  {
   "cell_type": "code",
   "execution_count": 17,
   "id": "b9beef7b",
   "metadata": {},
   "outputs": [],
   "source": [
    "#We rename the Missing Data\n",
    "\n",
    "ddf['ENdDate']=ddf.rename(columns={'ModifiedDate_y':'EndDate'},inplace=True)"
   ]
  },
  {
   "cell_type": "code",
   "execution_count": 18,
   "id": "bdc1b45f",
   "metadata": {},
   "outputs": [
    {
     "data": {
      "text/html": [
       "<div>\n",
       "<style scoped>\n",
       "    .dataframe tbody tr th:only-of-type {\n",
       "        vertical-align: middle;\n",
       "    }\n",
       "\n",
       "    .dataframe tbody tr th {\n",
       "        vertical-align: top;\n",
       "    }\n",
       "\n",
       "    .dataframe thead th {\n",
       "        text-align: right;\n",
       "    }\n",
       "</style>\n",
       "<table border=\"1\" class=\"dataframe\">\n",
       "  <thead>\n",
       "    <tr style=\"text-align: right;\">\n",
       "      <th></th>\n",
       "      <th>DepartmentID</th>\n",
       "      <th>Name</th>\n",
       "      <th>GroupName</th>\n",
       "      <th>ModifiedDate_x</th>\n",
       "      <th>BusinessEntityID</th>\n",
       "      <th>ShiftID</th>\n",
       "      <th>StartDate</th>\n",
       "      <th>EndDate</th>\n",
       "      <th>ENdDate</th>\n",
       "    </tr>\n",
       "  </thead>\n",
       "  <tbody>\n",
       "    <tr>\n",
       "      <th>0</th>\n",
       "      <td>1</td>\n",
       "      <td>Engineering</td>\n",
       "      <td>Research and Development</td>\n",
       "      <td>2008-04-30</td>\n",
       "      <td>2</td>\n",
       "      <td>1</td>\n",
       "      <td>2008-01-31</td>\n",
       "      <td>2008-01-30</td>\n",
       "      <td>None</td>\n",
       "    </tr>\n",
       "    <tr>\n",
       "      <th>1</th>\n",
       "      <td>1</td>\n",
       "      <td>Engineering</td>\n",
       "      <td>Research and Development</td>\n",
       "      <td>2008-04-30</td>\n",
       "      <td>3</td>\n",
       "      <td>1</td>\n",
       "      <td>2007-11-11</td>\n",
       "      <td>2007-11-10</td>\n",
       "      <td>None</td>\n",
       "    </tr>\n",
       "    <tr>\n",
       "      <th>2</th>\n",
       "      <td>1</td>\n",
       "      <td>Engineering</td>\n",
       "      <td>Research and Development</td>\n",
       "      <td>2008-04-30</td>\n",
       "      <td>4</td>\n",
       "      <td>1</td>\n",
       "      <td>2007-12-05</td>\n",
       "      <td>2010-05-28</td>\n",
       "      <td>None</td>\n",
       "    </tr>\n",
       "    <tr>\n",
       "      <th>3</th>\n",
       "      <td>1</td>\n",
       "      <td>Engineering</td>\n",
       "      <td>Research and Development</td>\n",
       "      <td>2008-04-30</td>\n",
       "      <td>5</td>\n",
       "      <td>1</td>\n",
       "      <td>2008-01-06</td>\n",
       "      <td>2008-01-05</td>\n",
       "      <td>None</td>\n",
       "    </tr>\n",
       "    <tr>\n",
       "      <th>4</th>\n",
       "      <td>1</td>\n",
       "      <td>Engineering</td>\n",
       "      <td>Research and Development</td>\n",
       "      <td>2008-04-30</td>\n",
       "      <td>6</td>\n",
       "      <td>1</td>\n",
       "      <td>2008-01-24</td>\n",
       "      <td>2008-01-23</td>\n",
       "      <td>None</td>\n",
       "    </tr>\n",
       "  </tbody>\n",
       "</table>\n",
       "</div>"
      ],
      "text/plain": [
       "   DepartmentID         Name                 GroupName ModifiedDate_x  \\\n",
       "0             1  Engineering  Research and Development     2008-04-30   \n",
       "1             1  Engineering  Research and Development     2008-04-30   \n",
       "2             1  Engineering  Research and Development     2008-04-30   \n",
       "3             1  Engineering  Research and Development     2008-04-30   \n",
       "4             1  Engineering  Research and Development     2008-04-30   \n",
       "\n",
       "   BusinessEntityID  ShiftID   StartDate    EndDate ENdDate  \n",
       "0                 2        1  2008-01-31 2008-01-30    None  \n",
       "1                 3        1  2007-11-11 2007-11-10    None  \n",
       "2                 4        1  2007-12-05 2010-05-28    None  \n",
       "3                 5        1  2008-01-06 2008-01-05    None  \n",
       "4                 6        1  2008-01-24 2008-01-23    None  "
      ]
     },
     "execution_count": 18,
     "metadata": {},
     "output_type": "execute_result"
    }
   ],
   "source": [
    "ddf.head()"
   ]
  },
  {
   "cell_type": "code",
   "execution_count": 19,
   "id": "2d6e3409",
   "metadata": {},
   "outputs": [],
   "source": [
    "ddf=ddf.drop(['EndDate','ENdDate'],axis=1)"
   ]
  },
  {
   "cell_type": "code",
   "execution_count": 20,
   "id": "db9083e1",
   "metadata": {},
   "outputs": [
    {
     "data": {
      "text/html": [
       "<div>\n",
       "<style scoped>\n",
       "    .dataframe tbody tr th:only-of-type {\n",
       "        vertical-align: middle;\n",
       "    }\n",
       "\n",
       "    .dataframe tbody tr th {\n",
       "        vertical-align: top;\n",
       "    }\n",
       "\n",
       "    .dataframe thead th {\n",
       "        text-align: right;\n",
       "    }\n",
       "</style>\n",
       "<table border=\"1\" class=\"dataframe\">\n",
       "  <thead>\n",
       "    <tr style=\"text-align: right;\">\n",
       "      <th></th>\n",
       "      <th>DepartmentID</th>\n",
       "      <th>Name</th>\n",
       "      <th>GroupName</th>\n",
       "      <th>ModifiedDate_x</th>\n",
       "      <th>BusinessEntityID</th>\n",
       "      <th>ShiftID</th>\n",
       "      <th>StartDate</th>\n",
       "    </tr>\n",
       "  </thead>\n",
       "  <tbody>\n",
       "    <tr>\n",
       "      <th>0</th>\n",
       "      <td>1</td>\n",
       "      <td>Engineering</td>\n",
       "      <td>Research and Development</td>\n",
       "      <td>2008-04-30</td>\n",
       "      <td>2</td>\n",
       "      <td>1</td>\n",
       "      <td>2008-01-31</td>\n",
       "    </tr>\n",
       "    <tr>\n",
       "      <th>1</th>\n",
       "      <td>1</td>\n",
       "      <td>Engineering</td>\n",
       "      <td>Research and Development</td>\n",
       "      <td>2008-04-30</td>\n",
       "      <td>3</td>\n",
       "      <td>1</td>\n",
       "      <td>2007-11-11</td>\n",
       "    </tr>\n",
       "    <tr>\n",
       "      <th>2</th>\n",
       "      <td>1</td>\n",
       "      <td>Engineering</td>\n",
       "      <td>Research and Development</td>\n",
       "      <td>2008-04-30</td>\n",
       "      <td>4</td>\n",
       "      <td>1</td>\n",
       "      <td>2007-12-05</td>\n",
       "    </tr>\n",
       "    <tr>\n",
       "      <th>3</th>\n",
       "      <td>1</td>\n",
       "      <td>Engineering</td>\n",
       "      <td>Research and Development</td>\n",
       "      <td>2008-04-30</td>\n",
       "      <td>5</td>\n",
       "      <td>1</td>\n",
       "      <td>2008-01-06</td>\n",
       "    </tr>\n",
       "    <tr>\n",
       "      <th>4</th>\n",
       "      <td>1</td>\n",
       "      <td>Engineering</td>\n",
       "      <td>Research and Development</td>\n",
       "      <td>2008-04-30</td>\n",
       "      <td>6</td>\n",
       "      <td>1</td>\n",
       "      <td>2008-01-24</td>\n",
       "    </tr>\n",
       "  </tbody>\n",
       "</table>\n",
       "</div>"
      ],
      "text/plain": [
       "   DepartmentID         Name                 GroupName ModifiedDate_x  \\\n",
       "0             1  Engineering  Research and Development     2008-04-30   \n",
       "1             1  Engineering  Research and Development     2008-04-30   \n",
       "2             1  Engineering  Research and Development     2008-04-30   \n",
       "3             1  Engineering  Research and Development     2008-04-30   \n",
       "4             1  Engineering  Research and Development     2008-04-30   \n",
       "\n",
       "   BusinessEntityID  ShiftID   StartDate  \n",
       "0                 2        1  2008-01-31  \n",
       "1                 3        1  2007-11-11  \n",
       "2                 4        1  2007-12-05  \n",
       "3                 5        1  2008-01-06  \n",
       "4                 6        1  2008-01-24  "
      ]
     },
     "execution_count": 20,
     "metadata": {},
     "output_type": "execute_result"
    }
   ],
   "source": [
    "ddf.head()"
   ]
  },
  {
   "cell_type": "code",
   "execution_count": 21,
   "id": "4a533036",
   "metadata": {},
   "outputs": [],
   "source": [
    "#we copy the data\n",
    "\n",
    "ndf=ddf.copy()"
   ]
  },
  {
   "cell_type": "code",
   "execution_count": 22,
   "id": "575dc090",
   "metadata": {},
   "outputs": [
    {
     "name": "stdout",
     "output_type": "stream",
     "text": [
      "<class 'pandas.core.frame.DataFrame'>\n",
      "Int64Index: 296 entries, 0 to 295\n",
      "Data columns (total 7 columns):\n",
      " #   Column            Non-Null Count  Dtype         \n",
      "---  ------            --------------  -----         \n",
      " 0   DepartmentID      296 non-null    int64         \n",
      " 1   Name              296 non-null    object        \n",
      " 2   GroupName         296 non-null    object        \n",
      " 3   ModifiedDate_x    296 non-null    datetime64[ns]\n",
      " 4   BusinessEntityID  296 non-null    int64         \n",
      " 5   ShiftID           296 non-null    int64         \n",
      " 6   StartDate         296 non-null    object        \n",
      "dtypes: datetime64[ns](1), int64(3), object(3)\n",
      "memory usage: 18.5+ KB\n"
     ]
    }
   ],
   "source": [
    "#Data info\n",
    "\n",
    "ndf.info()"
   ]
  },
  {
   "cell_type": "code",
   "execution_count": 23,
   "id": "fa9fc6f7",
   "metadata": {},
   "outputs": [
    {
     "data": {
      "text/html": [
       "<div>\n",
       "<style scoped>\n",
       "    .dataframe tbody tr th:only-of-type {\n",
       "        vertical-align: middle;\n",
       "    }\n",
       "\n",
       "    .dataframe tbody tr th {\n",
       "        vertical-align: top;\n",
       "    }\n",
       "\n",
       "    .dataframe thead th {\n",
       "        text-align: right;\n",
       "    }\n",
       "</style>\n",
       "<table border=\"1\" class=\"dataframe\">\n",
       "  <thead>\n",
       "    <tr style=\"text-align: right;\">\n",
       "      <th></th>\n",
       "      <th>DepartmentID</th>\n",
       "      <th>Name</th>\n",
       "      <th>GroupName</th>\n",
       "      <th>ModifiedDate_x</th>\n",
       "      <th>BusinessEntityID</th>\n",
       "      <th>ShiftID</th>\n",
       "      <th>StartDate</th>\n",
       "    </tr>\n",
       "  </thead>\n",
       "  <tbody>\n",
       "    <tr>\n",
       "      <th>0</th>\n",
       "      <td>1</td>\n",
       "      <td>Engineering</td>\n",
       "      <td>Research and Development</td>\n",
       "      <td>2008-04-30</td>\n",
       "      <td>2</td>\n",
       "      <td>1</td>\n",
       "      <td>2008-01-31</td>\n",
       "    </tr>\n",
       "    <tr>\n",
       "      <th>1</th>\n",
       "      <td>1</td>\n",
       "      <td>Engineering</td>\n",
       "      <td>Research and Development</td>\n",
       "      <td>2008-04-30</td>\n",
       "      <td>3</td>\n",
       "      <td>1</td>\n",
       "      <td>2007-11-11</td>\n",
       "    </tr>\n",
       "    <tr>\n",
       "      <th>2</th>\n",
       "      <td>1</td>\n",
       "      <td>Engineering</td>\n",
       "      <td>Research and Development</td>\n",
       "      <td>2008-04-30</td>\n",
       "      <td>4</td>\n",
       "      <td>1</td>\n",
       "      <td>2007-12-05</td>\n",
       "    </tr>\n",
       "    <tr>\n",
       "      <th>3</th>\n",
       "      <td>1</td>\n",
       "      <td>Engineering</td>\n",
       "      <td>Research and Development</td>\n",
       "      <td>2008-04-30</td>\n",
       "      <td>5</td>\n",
       "      <td>1</td>\n",
       "      <td>2008-01-06</td>\n",
       "    </tr>\n",
       "    <tr>\n",
       "      <th>4</th>\n",
       "      <td>1</td>\n",
       "      <td>Engineering</td>\n",
       "      <td>Research and Development</td>\n",
       "      <td>2008-04-30</td>\n",
       "      <td>6</td>\n",
       "      <td>1</td>\n",
       "      <td>2008-01-24</td>\n",
       "    </tr>\n",
       "  </tbody>\n",
       "</table>\n",
       "</div>"
      ],
      "text/plain": [
       "   DepartmentID         Name                 GroupName ModifiedDate_x  \\\n",
       "0             1  Engineering  Research and Development     2008-04-30   \n",
       "1             1  Engineering  Research and Development     2008-04-30   \n",
       "2             1  Engineering  Research and Development     2008-04-30   \n",
       "3             1  Engineering  Research and Development     2008-04-30   \n",
       "4             1  Engineering  Research and Development     2008-04-30   \n",
       "\n",
       "   BusinessEntityID  ShiftID   StartDate  \n",
       "0                 2        1  2008-01-31  \n",
       "1                 3        1  2007-11-11  \n",
       "2                 4        1  2007-12-05  \n",
       "3                 5        1  2008-01-06  \n",
       "4                 6        1  2008-01-24  "
      ]
     },
     "execution_count": 23,
     "metadata": {},
     "output_type": "execute_result"
    }
   ],
   "source": [
    "ndf.head()"
   ]
  },
  {
   "cell_type": "code",
   "execution_count": 24,
   "id": "2ef829c3",
   "metadata": {},
   "outputs": [],
   "source": [
    "ndf['EndDate']=pd.to_datetime(ndf['ModifiedDate_x'])\n",
    "ndf['StartDate']=pd.to_datetime(ndf['StartDate'])"
   ]
  },
  {
   "cell_type": "code",
   "execution_count": 25,
   "id": "29bcedfb",
   "metadata": {},
   "outputs": [
    {
     "data": {
      "text/html": [
       "<div>\n",
       "<style scoped>\n",
       "    .dataframe tbody tr th:only-of-type {\n",
       "        vertical-align: middle;\n",
       "    }\n",
       "\n",
       "    .dataframe tbody tr th {\n",
       "        vertical-align: top;\n",
       "    }\n",
       "\n",
       "    .dataframe thead th {\n",
       "        text-align: right;\n",
       "    }\n",
       "</style>\n",
       "<table border=\"1\" class=\"dataframe\">\n",
       "  <thead>\n",
       "    <tr style=\"text-align: right;\">\n",
       "      <th></th>\n",
       "      <th>DepartmentID</th>\n",
       "      <th>Name</th>\n",
       "      <th>GroupName</th>\n",
       "      <th>ModifiedDate_x</th>\n",
       "      <th>BusinessEntityID</th>\n",
       "      <th>ShiftID</th>\n",
       "      <th>StartDate</th>\n",
       "      <th>EndDate</th>\n",
       "    </tr>\n",
       "  </thead>\n",
       "  <tbody>\n",
       "    <tr>\n",
       "      <th>0</th>\n",
       "      <td>1</td>\n",
       "      <td>Engineering</td>\n",
       "      <td>Research and Development</td>\n",
       "      <td>2008-04-30</td>\n",
       "      <td>2</td>\n",
       "      <td>1</td>\n",
       "      <td>2008-01-31</td>\n",
       "      <td>2008-04-30</td>\n",
       "    </tr>\n",
       "    <tr>\n",
       "      <th>1</th>\n",
       "      <td>1</td>\n",
       "      <td>Engineering</td>\n",
       "      <td>Research and Development</td>\n",
       "      <td>2008-04-30</td>\n",
       "      <td>3</td>\n",
       "      <td>1</td>\n",
       "      <td>2007-11-11</td>\n",
       "      <td>2008-04-30</td>\n",
       "    </tr>\n",
       "    <tr>\n",
       "      <th>2</th>\n",
       "      <td>1</td>\n",
       "      <td>Engineering</td>\n",
       "      <td>Research and Development</td>\n",
       "      <td>2008-04-30</td>\n",
       "      <td>4</td>\n",
       "      <td>1</td>\n",
       "      <td>2007-12-05</td>\n",
       "      <td>2008-04-30</td>\n",
       "    </tr>\n",
       "    <tr>\n",
       "      <th>3</th>\n",
       "      <td>1</td>\n",
       "      <td>Engineering</td>\n",
       "      <td>Research and Development</td>\n",
       "      <td>2008-04-30</td>\n",
       "      <td>5</td>\n",
       "      <td>1</td>\n",
       "      <td>2008-01-06</td>\n",
       "      <td>2008-04-30</td>\n",
       "    </tr>\n",
       "    <tr>\n",
       "      <th>4</th>\n",
       "      <td>1</td>\n",
       "      <td>Engineering</td>\n",
       "      <td>Research and Development</td>\n",
       "      <td>2008-04-30</td>\n",
       "      <td>6</td>\n",
       "      <td>1</td>\n",
       "      <td>2008-01-24</td>\n",
       "      <td>2008-04-30</td>\n",
       "    </tr>\n",
       "  </tbody>\n",
       "</table>\n",
       "</div>"
      ],
      "text/plain": [
       "   DepartmentID         Name                 GroupName ModifiedDate_x  \\\n",
       "0             1  Engineering  Research and Development     2008-04-30   \n",
       "1             1  Engineering  Research and Development     2008-04-30   \n",
       "2             1  Engineering  Research and Development     2008-04-30   \n",
       "3             1  Engineering  Research and Development     2008-04-30   \n",
       "4             1  Engineering  Research and Development     2008-04-30   \n",
       "\n",
       "   BusinessEntityID  ShiftID  StartDate    EndDate  \n",
       "0                 2        1 2008-01-31 2008-04-30  \n",
       "1                 3        1 2007-11-11 2008-04-30  \n",
       "2                 4        1 2007-12-05 2008-04-30  \n",
       "3                 5        1 2008-01-06 2008-04-30  \n",
       "4                 6        1 2008-01-24 2008-04-30  "
      ]
     },
     "execution_count": 25,
     "metadata": {},
     "output_type": "execute_result"
    }
   ],
   "source": [
    "ndf.head()"
   ]
  },
  {
   "cell_type": "code",
   "execution_count": 26,
   "id": "a29ded32",
   "metadata": {},
   "outputs": [],
   "source": [
    "ndf=ndf.drop('ModifiedDate_x',axis=1)"
   ]
  },
  {
   "cell_type": "code",
   "execution_count": 27,
   "id": "5dbbb448",
   "metadata": {},
   "outputs": [
    {
     "data": {
      "text/html": [
       "<div>\n",
       "<style scoped>\n",
       "    .dataframe tbody tr th:only-of-type {\n",
       "        vertical-align: middle;\n",
       "    }\n",
       "\n",
       "    .dataframe tbody tr th {\n",
       "        vertical-align: top;\n",
       "    }\n",
       "\n",
       "    .dataframe thead th {\n",
       "        text-align: right;\n",
       "    }\n",
       "</style>\n",
       "<table border=\"1\" class=\"dataframe\">\n",
       "  <thead>\n",
       "    <tr style=\"text-align: right;\">\n",
       "      <th></th>\n",
       "      <th>DepartmentID</th>\n",
       "      <th>Name</th>\n",
       "      <th>GroupName</th>\n",
       "      <th>BusinessEntityID</th>\n",
       "      <th>ShiftID</th>\n",
       "      <th>StartDate</th>\n",
       "      <th>EndDate</th>\n",
       "    </tr>\n",
       "  </thead>\n",
       "  <tbody>\n",
       "    <tr>\n",
       "      <th>0</th>\n",
       "      <td>1</td>\n",
       "      <td>Engineering</td>\n",
       "      <td>Research and Development</td>\n",
       "      <td>2</td>\n",
       "      <td>1</td>\n",
       "      <td>2008-01-31</td>\n",
       "      <td>2008-04-30</td>\n",
       "    </tr>\n",
       "    <tr>\n",
       "      <th>1</th>\n",
       "      <td>1</td>\n",
       "      <td>Engineering</td>\n",
       "      <td>Research and Development</td>\n",
       "      <td>3</td>\n",
       "      <td>1</td>\n",
       "      <td>2007-11-11</td>\n",
       "      <td>2008-04-30</td>\n",
       "    </tr>\n",
       "    <tr>\n",
       "      <th>2</th>\n",
       "      <td>1</td>\n",
       "      <td>Engineering</td>\n",
       "      <td>Research and Development</td>\n",
       "      <td>4</td>\n",
       "      <td>1</td>\n",
       "      <td>2007-12-05</td>\n",
       "      <td>2008-04-30</td>\n",
       "    </tr>\n",
       "    <tr>\n",
       "      <th>3</th>\n",
       "      <td>1</td>\n",
       "      <td>Engineering</td>\n",
       "      <td>Research and Development</td>\n",
       "      <td>5</td>\n",
       "      <td>1</td>\n",
       "      <td>2008-01-06</td>\n",
       "      <td>2008-04-30</td>\n",
       "    </tr>\n",
       "    <tr>\n",
       "      <th>4</th>\n",
       "      <td>1</td>\n",
       "      <td>Engineering</td>\n",
       "      <td>Research and Development</td>\n",
       "      <td>6</td>\n",
       "      <td>1</td>\n",
       "      <td>2008-01-24</td>\n",
       "      <td>2008-04-30</td>\n",
       "    </tr>\n",
       "  </tbody>\n",
       "</table>\n",
       "</div>"
      ],
      "text/plain": [
       "   DepartmentID         Name                 GroupName  BusinessEntityID  \\\n",
       "0             1  Engineering  Research and Development                 2   \n",
       "1             1  Engineering  Research and Development                 3   \n",
       "2             1  Engineering  Research and Development                 4   \n",
       "3             1  Engineering  Research and Development                 5   \n",
       "4             1  Engineering  Research and Development                 6   \n",
       "\n",
       "   ShiftID  StartDate    EndDate  \n",
       "0        1 2008-01-31 2008-04-30  \n",
       "1        1 2007-11-11 2008-04-30  \n",
       "2        1 2007-12-05 2008-04-30  \n",
       "3        1 2008-01-06 2008-04-30  \n",
       "4        1 2008-01-24 2008-04-30  "
      ]
     },
     "execution_count": 27,
     "metadata": {},
     "output_type": "execute_result"
    }
   ],
   "source": [
    "ndf.head()"
   ]
  },
  {
   "cell_type": "code",
   "execution_count": 28,
   "id": "029e23a2",
   "metadata": {},
   "outputs": [
    {
     "name": "stdout",
     "output_type": "stream",
     "text": [
      "The Uniqueness Of the Values In Our dataset DepartmentID: 16\n",
      "The Uniqueness Of the Values In Our dataset Name: 16\n",
      "The Uniqueness Of the Values In Our dataset GroupName: 6\n",
      "The Uniqueness Of the Values In Our dataset BusinessEntityID: 290\n",
      "The Uniqueness Of the Values In Our dataset ShiftID: 3\n",
      "The Uniqueness Of the Values In Our dataset StartDate: 170\n",
      "The Uniqueness Of the Values In Our dataset EndDate: 1\n"
     ]
    }
   ],
   "source": [
    "for i in ndf.columns:\n",
    "    print('The Uniqueness Of the Values In Our dataset {}: {}'.format(i,ndf[i].nunique()))"
   ]
  },
  {
   "cell_type": "code",
   "execution_count": 29,
   "id": "861abd14",
   "metadata": {},
   "outputs": [
    {
     "data": {
      "text/plain": [
       "Text(0.0, 1.0, 'Names')"
      ]
     },
     "execution_count": 29,
     "metadata": {},
     "output_type": "execute_result"
    },
    {
     "data": {
      "image/png": "[encoded data removed]",
      "text/plain": [
       "<Figure size 1500x500 with 1 Axes>"
      ]
     },
     "metadata": {},
     "output_type": "display_data"
    }
   ],
   "source": [
    "from matplotlib import pyplot as plt\n",
    "\n",
    "ndf['Name'].value_counts().plot.barh(figsize=(15,5))\n",
    "plt.title('Names',loc='left',c='r')"
   ]
  },
  {
   "cell_type": "code",
   "execution_count": 30,
   "id": "b5fc293f",
   "metadata": {},
   "outputs": [
    {
     "data": {
      "text/plain": [
       "Text(0.0, 1.0, 'GroupName')"
      ]
     },
     "execution_count": 30,
     "metadata": {},
     "output_type": "execute_result"
    },
    {
     "data": {
      "image/png": "[encoded data removed]",
      "text/plain": [
       "<Figure size 1500x500 with 1 Axes>"
      ]
     },
     "metadata": {},
     "output_type": "display_data"
    }
   ],
   "source": [
    "ndf['GroupName'].value_counts().plot.barh(figsize=(15,5))\n",
    "plt.title('GroupName',c='r',loc='left')"
   ]
  },
  {
   "cell_type": "code",
   "execution_count": 31,
   "id": "9dcbf938",
   "metadata": {},
   "outputs": [],
   "source": [
    "ndf['Year']=pd.DatetimeIndex(ndf['StartDate']).year"
   ]
  },
  {
   "cell_type": "code",
   "execution_count": 32,
   "id": "f43491ac",
   "metadata": {},
   "outputs": [
    {
     "data": {
      "text/plain": [
       "Text(0.5, 0, 'Years')"
      ]
     },
     "execution_count": 32,
     "metadata": {},
     "output_type": "execute_result"
    },
    {
     "data": {
      "image/png": "[encoded data removed]",
      "text/plain": [
       "<Figure size 1500x500 with 1 Axes>"
      ]
     },
     "metadata": {},
     "output_type": "display_data"
    }
   ],
   "source": [
    "ndf['Year'].value_counts().plot.bar(figsize=(15,5))\n",
    "plt.title(\"Starting Years\")\n",
    "plt.xticks(rotation=10);\n",
    "plt.xlabel('Years')"
   ]
  },
  {
   "cell_type": "markdown",
   "id": "1df7be15",
   "metadata": {},
   "source": [
    "Analysis from the Adventureworks2014 "
   ]
  },
  {
   "cell_type": "code",
   "execution_count": null,
   "id": "2d4729f3",
   "metadata": {},
   "outputs": [],
   "source": []
  }
 ],
 "metadata": {
  "kernelspec": {
   "display_name": "Python 3 (ipykernel)",
   "language": "python",
   "name": "python3"
  },
  "language_info": {
   "codemirror_mode": {
    "name": "ipython",
    "version": 3
   },
   "file_extension": ".py",
   "mimetype": "text/x-python",
   "name": "python",
   "nbconvert_exporter": "python",
   "pygments_lexer": "ipython3",
   "version": "3.9.13"
  }
 },
 "nbformat": 4,
 "nbformat_minor": 5
}
