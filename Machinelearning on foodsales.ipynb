{
 "cells": [
  {
   "cell_type": "code",
   "execution_count": 1,
   "id": "27d535cc",
   "metadata": {},
   "outputs": [],
   "source": [
    "import numpy as np\n",
    "import pandas as pd\n",
    "import seaborn as sns\n",
    "import matplotlib.pyplot as plt"
   ]
  },
  {
   "cell_type": "code",
   "execution_count": 10,
   "id": "bebe5f81",
   "metadata": {},
   "outputs": [
    {
     "data": {
      "text/plain": [
       "'C:\\\\Users\\\\HP'"
      ]
     },
     "execution_count": 10,
     "metadata": {},
     "output_type": "execute_result"
    }
   ],
   "source": [
    "pwd"
   ]
  },
  {
   "cell_type": "code",
   "execution_count": 64,
   "id": "3ab73448",
   "metadata": {},
   "outputs": [],
   "source": [
    "df=pd.read_excel(r'C:\\\\Users\\\\HP\\Documents\\sampledatafoodsales.xlsx',sheet_name='FoodSales')"
   ]
  },
  {
   "cell_type": "code",
   "execution_count": 65,
   "id": "4fb36be5",
   "metadata": {},
   "outputs": [
    {
     "data": {
      "text/html": [
       "<div>\n",
       "<style scoped>\n",
       "    .dataframe tbody tr th:only-of-type {\n",
       "        vertical-align: middle;\n",
       "    }\n",
       "\n",
       "    .dataframe tbody tr th {\n",
       "        vertical-align: top;\n",
       "    }\n",
       "\n",
       "    .dataframe thead th {\n",
       "        text-align: right;\n",
       "    }\n",
       "</style>\n",
       "<table border=\"1\" class=\"dataframe\">\n",
       "  <thead>\n",
       "    <tr style=\"text-align: right;\">\n",
       "      <th></th>\n",
       "      <th>OrderDate</th>\n",
       "      <th>Region</th>\n",
       "      <th>City</th>\n",
       "      <th>Category</th>\n",
       "      <th>Product</th>\n",
       "      <th>Quantity</th>\n",
       "      <th>UnitPrice</th>\n",
       "      <th>TotalPrice</th>\n",
       "    </tr>\n",
       "  </thead>\n",
       "  <tbody>\n",
       "    <tr>\n",
       "      <th>0</th>\n",
       "      <td>2020-01-01</td>\n",
       "      <td>East</td>\n",
       "      <td>Boston</td>\n",
       "      <td>Bars</td>\n",
       "      <td>Carrot</td>\n",
       "      <td>33</td>\n",
       "      <td>1.77</td>\n",
       "      <td>58.41</td>\n",
       "    </tr>\n",
       "    <tr>\n",
       "      <th>1</th>\n",
       "      <td>2020-01-04</td>\n",
       "      <td>East</td>\n",
       "      <td>Boston</td>\n",
       "      <td>Crackers</td>\n",
       "      <td>Whole Wheat</td>\n",
       "      <td>87</td>\n",
       "      <td>3.49</td>\n",
       "      <td>303.63</td>\n",
       "    </tr>\n",
       "  </tbody>\n",
       "</table>\n",
       "</div>"
      ],
      "text/plain": [
       "   OrderDate Region    City  Category      Product  Quantity  UnitPrice  \\\n",
       "0 2020-01-01   East  Boston      Bars       Carrot        33       1.77   \n",
       "1 2020-01-04   East  Boston  Crackers  Whole Wheat        87       3.49   \n",
       "\n",
       "   TotalPrice  \n",
       "0       58.41  \n",
       "1      303.63  "
      ]
     },
     "execution_count": 65,
     "metadata": {},
     "output_type": "execute_result"
    }
   ],
   "source": [
    "df.head(2)"
   ]
  },
  {
   "cell_type": "code",
   "execution_count": 66,
   "id": "637feb5a",
   "metadata": {},
   "outputs": [
    {
     "data": {
      "text/plain": [
       "OrderDate     0\n",
       "Region        0\n",
       "City          0\n",
       "Category      0\n",
       "Product       0\n",
       "Quantity      0\n",
       "UnitPrice     0\n",
       "TotalPrice    0\n",
       "dtype: int64"
      ]
     },
     "execution_count": 66,
     "metadata": {},
     "output_type": "execute_result"
    }
   ],
   "source": [
    "df.isna().sum()"
   ]
  },
  {
   "cell_type": "code",
   "execution_count": 67,
   "id": "6b56c25d",
   "metadata": {},
   "outputs": [
    {
     "name": "stdout",
     "output_type": "stream",
     "text": [
      "<class 'pandas.core.frame.DataFrame'>\n",
      "RangeIndex: 244 entries, 0 to 243\n",
      "Data columns (total 8 columns):\n",
      " #   Column      Non-Null Count  Dtype         \n",
      "---  ------      --------------  -----         \n",
      " 0   OrderDate   244 non-null    datetime64[ns]\n",
      " 1   Region      244 non-null    object        \n",
      " 2   City        244 non-null    object        \n",
      " 3   Category    244 non-null    object        \n",
      " 4   Product     244 non-null    object        \n",
      " 5   Quantity    244 non-null    int64         \n",
      " 6   UnitPrice   244 non-null    float64       \n",
      " 7   TotalPrice  244 non-null    float64       \n",
      "dtypes: datetime64[ns](1), float64(2), int64(1), object(4)\n",
      "memory usage: 15.4+ KB\n"
     ]
    }
   ],
   "source": [
    "df.info()"
   ]
  },
  {
   "cell_type": "code",
   "execution_count": 72,
   "id": "cdbc3e19",
   "metadata": {},
   "outputs": [],
   "source": [
    "dfn=df.select_dtypes('number')"
   ]
  },
  {
   "cell_type": "code",
   "execution_count": 73,
   "id": "63b440ed",
   "metadata": {},
   "outputs": [
    {
     "data": {
      "text/html": [
       "<div>\n",
       "<style scoped>\n",
       "    .dataframe tbody tr th:only-of-type {\n",
       "        vertical-align: middle;\n",
       "    }\n",
       "\n",
       "    .dataframe tbody tr th {\n",
       "        vertical-align: top;\n",
       "    }\n",
       "\n",
       "    .dataframe thead th {\n",
       "        text-align: right;\n",
       "    }\n",
       "</style>\n",
       "<table border=\"1\" class=\"dataframe\">\n",
       "  <thead>\n",
       "    <tr style=\"text-align: right;\">\n",
       "      <th></th>\n",
       "      <th>Quantity</th>\n",
       "      <th>UnitPrice</th>\n",
       "      <th>TotalPrice</th>\n",
       "    </tr>\n",
       "  </thead>\n",
       "  <tbody>\n",
       "    <tr>\n",
       "      <th>0</th>\n",
       "      <td>33</td>\n",
       "      <td>1.77</td>\n",
       "      <td>58.41</td>\n",
       "    </tr>\n",
       "    <tr>\n",
       "      <th>1</th>\n",
       "      <td>87</td>\n",
       "      <td>3.49</td>\n",
       "      <td>303.63</td>\n",
       "    </tr>\n",
       "    <tr>\n",
       "      <th>2</th>\n",
       "      <td>58</td>\n",
       "      <td>1.87</td>\n",
       "      <td>108.46</td>\n",
       "    </tr>\n",
       "    <tr>\n",
       "      <th>3</th>\n",
       "      <td>82</td>\n",
       "      <td>1.87</td>\n",
       "      <td>153.34</td>\n",
       "    </tr>\n",
       "    <tr>\n",
       "      <th>4</th>\n",
       "      <td>38</td>\n",
       "      <td>2.18</td>\n",
       "      <td>82.84</td>\n",
       "    </tr>\n",
       "    <tr>\n",
       "      <th>...</th>\n",
       "      <td>...</td>\n",
       "      <td>...</td>\n",
       "      <td>...</td>\n",
       "    </tr>\n",
       "    <tr>\n",
       "      <th>239</th>\n",
       "      <td>34</td>\n",
       "      <td>2.18</td>\n",
       "      <td>74.12</td>\n",
       "    </tr>\n",
       "    <tr>\n",
       "      <th>240</th>\n",
       "      <td>245</td>\n",
       "      <td>1.87</td>\n",
       "      <td>458.15</td>\n",
       "    </tr>\n",
       "    <tr>\n",
       "      <th>241</th>\n",
       "      <td>30</td>\n",
       "      <td>3.49</td>\n",
       "      <td>104.70</td>\n",
       "    </tr>\n",
       "    <tr>\n",
       "      <th>242</th>\n",
       "      <td>30</td>\n",
       "      <td>1.87</td>\n",
       "      <td>56.10</td>\n",
       "    </tr>\n",
       "    <tr>\n",
       "      <th>243</th>\n",
       "      <td>44</td>\n",
       "      <td>2.84</td>\n",
       "      <td>124.96</td>\n",
       "    </tr>\n",
       "  </tbody>\n",
       "</table>\n",
       "<p>244 rows × 3 columns</p>\n",
       "</div>"
      ],
      "text/plain": [
       "     Quantity  UnitPrice  TotalPrice\n",
       "0          33       1.77       58.41\n",
       "1          87       3.49      303.63\n",
       "2          58       1.87      108.46\n",
       "3          82       1.87      153.34\n",
       "4          38       2.18       82.84\n",
       "..        ...        ...         ...\n",
       "239        34       2.18       74.12\n",
       "240       245       1.87      458.15\n",
       "241        30       3.49      104.70\n",
       "242        30       1.87       56.10\n",
       "243        44       2.84      124.96\n",
       "\n",
       "[244 rows x 3 columns]"
      ]
     },
     "execution_count": 73,
     "metadata": {},
     "output_type": "execute_result"
    }
   ],
   "source": [
    "dfn"
   ]
  },
  {
   "cell_type": "code",
   "execution_count": 76,
   "id": "37f423ef",
   "metadata": {},
   "outputs": [
    {
     "data": {
      "text/plain": [
       "<AxesSubplot:>"
      ]
     },
     "execution_count": 76,
     "metadata": {},
     "output_type": "execute_result"
    },
    {
     "data": {
      "image/png": "[encoded data removed]",
      "text/plain": [
       "<Figure size 900x700 with 2 Axes>"
      ]
     },
     "metadata": {},
     "output_type": "display_data"
    }
   ],
   "source": [
    "plt.figure(figsize=(9,7),dpi=100)\n",
    "sns.heatmap(dfn.corr(),annot=True)"
   ]
  },
  {
   "cell_type": "code",
   "execution_count": 77,
   "id": "7e326296",
   "metadata": {},
   "outputs": [
    {
     "data": {
      "image/png": "[encoded data removed]",
      "text/plain": [
       "<Figure size 540x540 with 12 Axes>"
      ]
     },
     "metadata": {},
     "output_type": "display_data"
    }
   ],
   "source": [
    "sns.pairplot(dfn);"
   ]
  },
  {
   "cell_type": "code",
   "execution_count": 107,
   "id": "461bfc99",
   "metadata": {},
   "outputs": [],
   "source": [
    "d"
   ]
  },
  {
   "cell_type": "code",
   "execution_count": 109,
   "id": "adcab477",
   "metadata": {},
   "outputs": [
    {
     "data": {
      "text/plain": [
       "33.0"
      ]
     },
     "execution_count": 109,
     "metadata": {},
     "output_type": "execute_result"
    }
   ],
   "source": [
    "58.41/1.77"
   ]
  },
  {
   "cell_type": "code",
   "execution_count": 82,
   "id": "3a7b3578",
   "metadata": {},
   "outputs": [
    {
     "data": {
      "text/plain": [
       "18.6"
      ]
     },
     "execution_count": 82,
     "metadata": {},
     "output_type": "execute_result"
    }
   ],
   "source": [
    "round(33/1.77,1)"
   ]
  },
  {
   "cell_type": "code",
   "execution_count": 92,
   "id": "3d0a7f95",
   "metadata": {},
   "outputs": [],
   "source": [
    "df['Quantity_Sold']=df['Quantity']/df['UnitPrice']"
   ]
  },
  {
   "cell_type": "code",
   "execution_count": 101,
   "id": "a759c434",
   "metadata": {},
   "outputs": [],
   "source": [
    "df['Quantity_Sold']=df['Quantity_Sold'].apply(int)"
   ]
  },
  {
   "cell_type": "code",
   "execution_count": 102,
   "id": "8e1e718d",
   "metadata": {},
   "outputs": [
    {
     "data": {
      "text/html": [
       "<div>\n",
       "<style scoped>\n",
       "    .dataframe tbody tr th:only-of-type {\n",
       "        vertical-align: middle;\n",
       "    }\n",
       "\n",
       "    .dataframe tbody tr th {\n",
       "        vertical-align: top;\n",
       "    }\n",
       "\n",
       "    .dataframe thead th {\n",
       "        text-align: right;\n",
       "    }\n",
       "</style>\n",
       "<table border=\"1\" class=\"dataframe\">\n",
       "  <thead>\n",
       "    <tr style=\"text-align: right;\">\n",
       "      <th></th>\n",
       "      <th>OrderDate</th>\n",
       "      <th>Region</th>\n",
       "      <th>City</th>\n",
       "      <th>Category</th>\n",
       "      <th>Product</th>\n",
       "      <th>Quantity</th>\n",
       "      <th>UnitPrice</th>\n",
       "      <th>TotalPrice</th>\n",
       "      <th>Quantity_Sold</th>\n",
       "    </tr>\n",
       "  </thead>\n",
       "  <tbody>\n",
       "    <tr>\n",
       "      <th>0</th>\n",
       "      <td>2020-01-01</td>\n",
       "      <td>East</td>\n",
       "      <td>Boston</td>\n",
       "      <td>Bars</td>\n",
       "      <td>Carrot</td>\n",
       "      <td>33</td>\n",
       "      <td>1.77</td>\n",
       "      <td>58.41</td>\n",
       "      <td>18</td>\n",
       "    </tr>\n",
       "    <tr>\n",
       "      <th>1</th>\n",
       "      <td>2020-01-04</td>\n",
       "      <td>East</td>\n",
       "      <td>Boston</td>\n",
       "      <td>Crackers</td>\n",
       "      <td>Whole Wheat</td>\n",
       "      <td>87</td>\n",
       "      <td>3.49</td>\n",
       "      <td>303.63</td>\n",
       "      <td>24</td>\n",
       "    </tr>\n",
       "    <tr>\n",
       "      <th>2</th>\n",
       "      <td>2020-01-07</td>\n",
       "      <td>West</td>\n",
       "      <td>Los Angeles</td>\n",
       "      <td>Cookies</td>\n",
       "      <td>Chocolate Chip</td>\n",
       "      <td>58</td>\n",
       "      <td>1.87</td>\n",
       "      <td>108.46</td>\n",
       "      <td>31</td>\n",
       "    </tr>\n",
       "    <tr>\n",
       "      <th>3</th>\n",
       "      <td>2020-01-10</td>\n",
       "      <td>East</td>\n",
       "      <td>New York</td>\n",
       "      <td>Cookies</td>\n",
       "      <td>Chocolate Chip</td>\n",
       "      <td>82</td>\n",
       "      <td>1.87</td>\n",
       "      <td>153.34</td>\n",
       "      <td>43</td>\n",
       "    </tr>\n",
       "    <tr>\n",
       "      <th>4</th>\n",
       "      <td>2020-01-13</td>\n",
       "      <td>East</td>\n",
       "      <td>Boston</td>\n",
       "      <td>Cookies</td>\n",
       "      <td>Arrowroot</td>\n",
       "      <td>38</td>\n",
       "      <td>2.18</td>\n",
       "      <td>82.84</td>\n",
       "      <td>17</td>\n",
       "    </tr>\n",
       "    <tr>\n",
       "      <th>...</th>\n",
       "      <td>...</td>\n",
       "      <td>...</td>\n",
       "      <td>...</td>\n",
       "      <td>...</td>\n",
       "      <td>...</td>\n",
       "      <td>...</td>\n",
       "      <td>...</td>\n",
       "      <td>...</td>\n",
       "      <td>...</td>\n",
       "    </tr>\n",
       "    <tr>\n",
       "      <th>239</th>\n",
       "      <td>2021-12-18</td>\n",
       "      <td>East</td>\n",
       "      <td>Boston</td>\n",
       "      <td>Cookies</td>\n",
       "      <td>Arrowroot</td>\n",
       "      <td>34</td>\n",
       "      <td>2.18</td>\n",
       "      <td>74.12</td>\n",
       "      <td>15</td>\n",
       "    </tr>\n",
       "    <tr>\n",
       "      <th>240</th>\n",
       "      <td>2021-12-21</td>\n",
       "      <td>East</td>\n",
       "      <td>Boston</td>\n",
       "      <td>Cookies</td>\n",
       "      <td>Chocolate Chip</td>\n",
       "      <td>245</td>\n",
       "      <td>1.87</td>\n",
       "      <td>458.15</td>\n",
       "      <td>131</td>\n",
       "    </tr>\n",
       "    <tr>\n",
       "      <th>241</th>\n",
       "      <td>2021-12-24</td>\n",
       "      <td>East</td>\n",
       "      <td>Boston</td>\n",
       "      <td>Crackers</td>\n",
       "      <td>Whole Wheat</td>\n",
       "      <td>30</td>\n",
       "      <td>3.49</td>\n",
       "      <td>104.70</td>\n",
       "      <td>8</td>\n",
       "    </tr>\n",
       "    <tr>\n",
       "      <th>242</th>\n",
       "      <td>2021-12-27</td>\n",
       "      <td>West</td>\n",
       "      <td>Los Angeles</td>\n",
       "      <td>Bars</td>\n",
       "      <td>Bran</td>\n",
       "      <td>30</td>\n",
       "      <td>1.87</td>\n",
       "      <td>56.10</td>\n",
       "      <td>16</td>\n",
       "    </tr>\n",
       "    <tr>\n",
       "      <th>243</th>\n",
       "      <td>2021-12-30</td>\n",
       "      <td>West</td>\n",
       "      <td>Los Angeles</td>\n",
       "      <td>Cookies</td>\n",
       "      <td>Oatmeal Raisin</td>\n",
       "      <td>44</td>\n",
       "      <td>2.84</td>\n",
       "      <td>124.96</td>\n",
       "      <td>15</td>\n",
       "    </tr>\n",
       "  </tbody>\n",
       "</table>\n",
       "<p>244 rows × 9 columns</p>\n",
       "</div>"
      ],
      "text/plain": [
       "     OrderDate Region         City  Category         Product  Quantity  \\\n",
       "0   2020-01-01   East       Boston      Bars          Carrot        33   \n",
       "1   2020-01-04   East       Boston  Crackers     Whole Wheat        87   \n",
       "2   2020-01-07   West  Los Angeles   Cookies  Chocolate Chip        58   \n",
       "3   2020-01-10   East     New York   Cookies  Chocolate Chip        82   \n",
       "4   2020-01-13   East       Boston   Cookies       Arrowroot        38   \n",
       "..         ...    ...          ...       ...             ...       ...   \n",
       "239 2021-12-18   East       Boston   Cookies       Arrowroot        34   \n",
       "240 2021-12-21   East       Boston   Cookies  Chocolate Chip       245   \n",
       "241 2021-12-24   East       Boston  Crackers     Whole Wheat        30   \n",
       "242 2021-12-27   West  Los Angeles      Bars            Bran        30   \n",
       "243 2021-12-30   West  Los Angeles   Cookies  Oatmeal Raisin        44   \n",
       "\n",
       "     UnitPrice  TotalPrice  Quantity_Sold  \n",
       "0         1.77       58.41             18  \n",
       "1         3.49      303.63             24  \n",
       "2         1.87      108.46             31  \n",
       "3         1.87      153.34             43  \n",
       "4         2.18       82.84             17  \n",
       "..         ...         ...            ...  \n",
       "239       2.18       74.12             15  \n",
       "240       1.87      458.15            131  \n",
       "241       3.49      104.70              8  \n",
       "242       1.87       56.10             16  \n",
       "243       2.84      124.96             15  \n",
       "\n",
       "[244 rows x 9 columns]"
      ]
     },
     "execution_count": 102,
     "metadata": {},
     "output_type": "execute_result"
    }
   ],
   "source": [
    "df"
   ]
  },
  {
   "cell_type": "code",
   "execution_count": 110,
   "id": "75de04aa",
   "metadata": {},
   "outputs": [
    {
     "data": {
      "text/plain": [
       "<seaborn.axisgrid.PairGrid at 0x211ce31f550>"
      ]
     },
     "execution_count": 110,
     "metadata": {},
     "output_type": "execute_result"
    },
    {
     "data": {
      "image/png": "[encoded data removed]",
      "text/plain": [
       "<Figure size 720x720 with 20 Axes>"
      ]
     },
     "metadata": {},
     "output_type": "display_data"
    }
   ],
   "source": [
    "sns.pairplot(df)"
   ]
  },
  {
   "cell_type": "code",
   "execution_count": 115,
   "id": "65d3f2f3",
   "metadata": {},
   "outputs": [
    {
     "data": {
      "text/plain": [
       "<AxesSubplot:>"
      ]
     },
     "execution_count": 115,
     "metadata": {},
     "output_type": "execute_result"
    },
    {
     "data": {
      "image/png": "[encoded data removed]",
      "text/plain": [
       "<Figure size 900x400 with 2 Axes>"
      ]
     },
     "metadata": {},
     "output_type": "display_data"
    }
   ],
   "source": [
    "plt.figure(figsize=(9,4),dpi=100)\n",
    "sns.heatmap(df.corr(),annot=True)"
   ]
  },
  {
   "cell_type": "code",
   "execution_count": 116,
   "id": "dd24b61a",
   "metadata": {},
   "outputs": [],
   "source": [
    "X=df.drop(columns=['TotalPrice','OrderDate','',axis=1)\n",
    "\n",
    "y=df['TotalPrice']"
   ]
  },
  {
   "cell_type": "code",
   "execution_count": 118,
   "id": "b973b5cf",
   "metadata": {},
   "outputs": [],
   "source": [
    "from sklearn.model_selection import train_test_split"
   ]
  },
  {
   "cell_type": "code",
   "execution_count": 125,
   "id": "fc62bbf9",
   "metadata": {},
   "outputs": [],
   "source": [
    "X_train, X_test, y_train, y_test = train_test_split(X, y, test_size=0.2, random_state=101)"
   ]
  },
  {
   "cell_type": "code",
   "execution_count": 126,
   "id": "1a6a47aa",
   "metadata": {},
   "outputs": [],
   "source": [
    "from sklearn.linear_model import LinearRegression"
   ]
  },
  {
   "cell_type": "code",
   "execution_count": 127,
   "id": "4b19a6cd",
   "metadata": {},
   "outputs": [],
   "source": [
    "model=LinearRegression()"
   ]
  },
  {
   "cell_type": "code",
   "execution_count": 128,
   "id": "01a74990",
   "metadata": {},
   "outputs": [
    {
     "data": {
      "text/plain": [
       "LinearRegression()"
      ]
     },
     "execution_count": 128,
     "metadata": {},
     "output_type": "execute_result"
    }
   ],
   "source": [
    "model"
   ]
  },
  {
   "cell_type": "code",
   "execution_count": 130,
   "id": "70227034",
   "metadata": {},
   "outputs": [
    {
     "data": {
      "text/html": [
       "<div>\n",
       "<style scoped>\n",
       "    .dataframe tbody tr th:only-of-type {\n",
       "        vertical-align: middle;\n",
       "    }\n",
       "\n",
       "    .dataframe tbody tr th {\n",
       "        vertical-align: top;\n",
       "    }\n",
       "\n",
       "    .dataframe thead th {\n",
       "        text-align: right;\n",
       "    }\n",
       "</style>\n",
       "<table border=\"1\" class=\"dataframe\">\n",
       "  <thead>\n",
       "    <tr style=\"text-align: right;\">\n",
       "      <th></th>\n",
       "      <th>OrderDate</th>\n",
       "      <th>Region</th>\n",
       "      <th>City</th>\n",
       "      <th>Category</th>\n",
       "      <th>Product</th>\n",
       "      <th>Quantity</th>\n",
       "      <th>UnitPrice</th>\n",
       "      <th>TotalPrice</th>\n",
       "      <th>Quantity_Sold</th>\n",
       "    </tr>\n",
       "  </thead>\n",
       "  <tbody>\n",
       "    <tr>\n",
       "      <th>0</th>\n",
       "      <td>2020-01-01</td>\n",
       "      <td>East</td>\n",
       "      <td>Boston</td>\n",
       "      <td>Bars</td>\n",
       "      <td>Carrot</td>\n",
       "      <td>33</td>\n",
       "      <td>1.77</td>\n",
       "      <td>58.41</td>\n",
       "      <td>18</td>\n",
       "    </tr>\n",
       "    <tr>\n",
       "      <th>1</th>\n",
       "      <td>2020-01-04</td>\n",
       "      <td>East</td>\n",
       "      <td>Boston</td>\n",
       "      <td>Crackers</td>\n",
       "      <td>Whole Wheat</td>\n",
       "      <td>87</td>\n",
       "      <td>3.49</td>\n",
       "      <td>303.63</td>\n",
       "      <td>24</td>\n",
       "    </tr>\n",
       "    <tr>\n",
       "      <th>2</th>\n",
       "      <td>2020-01-07</td>\n",
       "      <td>West</td>\n",
       "      <td>Los Angeles</td>\n",
       "      <td>Cookies</td>\n",
       "      <td>Chocolate Chip</td>\n",
       "      <td>58</td>\n",
       "      <td>1.87</td>\n",
       "      <td>108.46</td>\n",
       "      <td>31</td>\n",
       "    </tr>\n",
       "    <tr>\n",
       "      <th>3</th>\n",
       "      <td>2020-01-10</td>\n",
       "      <td>East</td>\n",
       "      <td>New York</td>\n",
       "      <td>Cookies</td>\n",
       "      <td>Chocolate Chip</td>\n",
       "      <td>82</td>\n",
       "      <td>1.87</td>\n",
       "      <td>153.34</td>\n",
       "      <td>43</td>\n",
       "    </tr>\n",
       "    <tr>\n",
       "      <th>4</th>\n",
       "      <td>2020-01-13</td>\n",
       "      <td>East</td>\n",
       "      <td>Boston</td>\n",
       "      <td>Cookies</td>\n",
       "      <td>Arrowroot</td>\n",
       "      <td>38</td>\n",
       "      <td>2.18</td>\n",
       "      <td>82.84</td>\n",
       "      <td>17</td>\n",
       "    </tr>\n",
       "    <tr>\n",
       "      <th>...</th>\n",
       "      <td>...</td>\n",
       "      <td>...</td>\n",
       "      <td>...</td>\n",
       "      <td>...</td>\n",
       "      <td>...</td>\n",
       "      <td>...</td>\n",
       "      <td>...</td>\n",
       "      <td>...</td>\n",
       "      <td>...</td>\n",
       "    </tr>\n",
       "    <tr>\n",
       "      <th>239</th>\n",
       "      <td>2021-12-18</td>\n",
       "      <td>East</td>\n",
       "      <td>Boston</td>\n",
       "      <td>Cookies</td>\n",
       "      <td>Arrowroot</td>\n",
       "      <td>34</td>\n",
       "      <td>2.18</td>\n",
       "      <td>74.12</td>\n",
       "      <td>15</td>\n",
       "    </tr>\n",
       "    <tr>\n",
       "      <th>240</th>\n",
       "      <td>2021-12-21</td>\n",
       "      <td>East</td>\n",
       "      <td>Boston</td>\n",
       "      <td>Cookies</td>\n",
       "      <td>Chocolate Chip</td>\n",
       "      <td>245</td>\n",
       "      <td>1.87</td>\n",
       "      <td>458.15</td>\n",
       "      <td>131</td>\n",
       "    </tr>\n",
       "    <tr>\n",
       "      <th>241</th>\n",
       "      <td>2021-12-24</td>\n",
       "      <td>East</td>\n",
       "      <td>Boston</td>\n",
       "      <td>Crackers</td>\n",
       "      <td>Whole Wheat</td>\n",
       "      <td>30</td>\n",
       "      <td>3.49</td>\n",
       "      <td>104.70</td>\n",
       "      <td>8</td>\n",
       "    </tr>\n",
       "    <tr>\n",
       "      <th>242</th>\n",
       "      <td>2021-12-27</td>\n",
       "      <td>West</td>\n",
       "      <td>Los Angeles</td>\n",
       "      <td>Bars</td>\n",
       "      <td>Bran</td>\n",
       "      <td>30</td>\n",
       "      <td>1.87</td>\n",
       "      <td>56.10</td>\n",
       "      <td>16</td>\n",
       "    </tr>\n",
       "    <tr>\n",
       "      <th>243</th>\n",
       "      <td>2021-12-30</td>\n",
       "      <td>West</td>\n",
       "      <td>Los Angeles</td>\n",
       "      <td>Cookies</td>\n",
       "      <td>Oatmeal Raisin</td>\n",
       "      <td>44</td>\n",
       "      <td>2.84</td>\n",
       "      <td>124.96</td>\n",
       "      <td>15</td>\n",
       "    </tr>\n",
       "  </tbody>\n",
       "</table>\n",
       "<p>244 rows × 9 columns</p>\n",
       "</div>"
      ],
      "text/plain": [
       "     OrderDate Region         City  Category         Product  Quantity  \\\n",
       "0   2020-01-01   East       Boston      Bars          Carrot        33   \n",
       "1   2020-01-04   East       Boston  Crackers     Whole Wheat        87   \n",
       "2   2020-01-07   West  Los Angeles   Cookies  Chocolate Chip        58   \n",
       "3   2020-01-10   East     New York   Cookies  Chocolate Chip        82   \n",
       "4   2020-01-13   East       Boston   Cookies       Arrowroot        38   \n",
       "..         ...    ...          ...       ...             ...       ...   \n",
       "239 2021-12-18   East       Boston   Cookies       Arrowroot        34   \n",
       "240 2021-12-21   East       Boston   Cookies  Chocolate Chip       245   \n",
       "241 2021-12-24   East       Boston  Crackers     Whole Wheat        30   \n",
       "242 2021-12-27   West  Los Angeles      Bars            Bran        30   \n",
       "243 2021-12-30   West  Los Angeles   Cookies  Oatmeal Raisin        44   \n",
       "\n",
       "     UnitPrice  TotalPrice  Quantity_Sold  \n",
       "0         1.77       58.41             18  \n",
       "1         3.49      303.63             24  \n",
       "2         1.87      108.46             31  \n",
       "3         1.87      153.34             43  \n",
       "4         2.18       82.84             17  \n",
       "..         ...         ...            ...  \n",
       "239       2.18       74.12             15  \n",
       "240       1.87      458.15            131  \n",
       "241       3.49      104.70              8  \n",
       "242       1.87       56.10             16  \n",
       "243       2.84      124.96             15  \n",
       "\n",
       "[244 rows x 9 columns]"
      ]
     },
     "execution_count": 130,
     "metadata": {},
     "output_type": "execute_result"
    }
   ],
   "source": [
    "df"
   ]
  },
  {
   "cell_type": "code",
   "execution_count": 131,
   "id": "e95a2ae6",
   "metadata": {},
   "outputs": [
    {
     "data": {
      "text/html": [
       "<div>\n",
       "<style scoped>\n",
       "    .dataframe tbody tr th:only-of-type {\n",
       "        vertical-align: middle;\n",
       "    }\n",
       "\n",
       "    .dataframe tbody tr th {\n",
       "        vertical-align: top;\n",
       "    }\n",
       "\n",
       "    .dataframe thead th {\n",
       "        text-align: right;\n",
       "    }\n",
       "</style>\n",
       "<table border=\"1\" class=\"dataframe\">\n",
       "  <thead>\n",
       "    <tr style=\"text-align: right;\">\n",
       "      <th></th>\n",
       "      <th>OrderDate</th>\n",
       "      <th>Region</th>\n",
       "      <th>City</th>\n",
       "      <th>Category</th>\n",
       "      <th>Product</th>\n",
       "      <th>Quantity</th>\n",
       "      <th>UnitPrice</th>\n",
       "      <th>TotalPrice</th>\n",
       "      <th>Quantity_Sold</th>\n",
       "    </tr>\n",
       "  </thead>\n",
       "  <tbody>\n",
       "    <tr>\n",
       "      <th>0</th>\n",
       "      <td>2020-01-01</td>\n",
       "      <td>East</td>\n",
       "      <td>Boston</td>\n",
       "      <td>Bars</td>\n",
       "      <td>Carrot</td>\n",
       "      <td>33</td>\n",
       "      <td>1.77</td>\n",
       "      <td>58.41</td>\n",
       "      <td>18</td>\n",
       "    </tr>\n",
       "    <tr>\n",
       "      <th>1</th>\n",
       "      <td>2020-01-04</td>\n",
       "      <td>East</td>\n",
       "      <td>Boston</td>\n",
       "      <td>Crackers</td>\n",
       "      <td>Whole Wheat</td>\n",
       "      <td>87</td>\n",
       "      <td>3.49</td>\n",
       "      <td>303.63</td>\n",
       "      <td>24</td>\n",
       "    </tr>\n",
       "    <tr>\n",
       "      <th>2</th>\n",
       "      <td>2020-01-07</td>\n",
       "      <td>West</td>\n",
       "      <td>Los Angeles</td>\n",
       "      <td>Cookies</td>\n",
       "      <td>Chocolate Chip</td>\n",
       "      <td>58</td>\n",
       "      <td>1.87</td>\n",
       "      <td>108.46</td>\n",
       "      <td>31</td>\n",
       "    </tr>\n",
       "    <tr>\n",
       "      <th>3</th>\n",
       "      <td>2020-01-10</td>\n",
       "      <td>East</td>\n",
       "      <td>New York</td>\n",
       "      <td>Cookies</td>\n",
       "      <td>Chocolate Chip</td>\n",
       "      <td>82</td>\n",
       "      <td>1.87</td>\n",
       "      <td>153.34</td>\n",
       "      <td>43</td>\n",
       "    </tr>\n",
       "    <tr>\n",
       "      <th>4</th>\n",
       "      <td>2020-01-13</td>\n",
       "      <td>East</td>\n",
       "      <td>Boston</td>\n",
       "      <td>Cookies</td>\n",
       "      <td>Arrowroot</td>\n",
       "      <td>38</td>\n",
       "      <td>2.18</td>\n",
       "      <td>82.84</td>\n",
       "      <td>17</td>\n",
       "    </tr>\n",
       "    <tr>\n",
       "      <th>...</th>\n",
       "      <td>...</td>\n",
       "      <td>...</td>\n",
       "      <td>...</td>\n",
       "      <td>...</td>\n",
       "      <td>...</td>\n",
       "      <td>...</td>\n",
       "      <td>...</td>\n",
       "      <td>...</td>\n",
       "      <td>...</td>\n",
       "    </tr>\n",
       "    <tr>\n",
       "      <th>239</th>\n",
       "      <td>2021-12-18</td>\n",
       "      <td>East</td>\n",
       "      <td>Boston</td>\n",
       "      <td>Cookies</td>\n",
       "      <td>Arrowroot</td>\n",
       "      <td>34</td>\n",
       "      <td>2.18</td>\n",
       "      <td>74.12</td>\n",
       "      <td>15</td>\n",
       "    </tr>\n",
       "    <tr>\n",
       "      <th>240</th>\n",
       "      <td>2021-12-21</td>\n",
       "      <td>East</td>\n",
       "      <td>Boston</td>\n",
       "      <td>Cookies</td>\n",
       "      <td>Chocolate Chip</td>\n",
       "      <td>245</td>\n",
       "      <td>1.87</td>\n",
       "      <td>458.15</td>\n",
       "      <td>131</td>\n",
       "    </tr>\n",
       "    <tr>\n",
       "      <th>241</th>\n",
       "      <td>2021-12-24</td>\n",
       "      <td>East</td>\n",
       "      <td>Boston</td>\n",
       "      <td>Crackers</td>\n",
       "      <td>Whole Wheat</td>\n",
       "      <td>30</td>\n",
       "      <td>3.49</td>\n",
       "      <td>104.70</td>\n",
       "      <td>8</td>\n",
       "    </tr>\n",
       "    <tr>\n",
       "      <th>242</th>\n",
       "      <td>2021-12-27</td>\n",
       "      <td>West</td>\n",
       "      <td>Los Angeles</td>\n",
       "      <td>Bars</td>\n",
       "      <td>Bran</td>\n",
       "      <td>30</td>\n",
       "      <td>1.87</td>\n",
       "      <td>56.10</td>\n",
       "      <td>16</td>\n",
       "    </tr>\n",
       "    <tr>\n",
       "      <th>243</th>\n",
       "      <td>2021-12-30</td>\n",
       "      <td>West</td>\n",
       "      <td>Los Angeles</td>\n",
       "      <td>Cookies</td>\n",
       "      <td>Oatmeal Raisin</td>\n",
       "      <td>44</td>\n",
       "      <td>2.84</td>\n",
       "      <td>124.96</td>\n",
       "      <td>15</td>\n",
       "    </tr>\n",
       "  </tbody>\n",
       "</table>\n",
       "<p>244 rows × 9 columns</p>\n",
       "</div>"
      ],
      "text/plain": [
       "     OrderDate Region         City  Category         Product  Quantity  \\\n",
       "0   2020-01-01   East       Boston      Bars          Carrot        33   \n",
       "1   2020-01-04   East       Boston  Crackers     Whole Wheat        87   \n",
       "2   2020-01-07   West  Los Angeles   Cookies  Chocolate Chip        58   \n",
       "3   2020-01-10   East     New York   Cookies  Chocolate Chip        82   \n",
       "4   2020-01-13   East       Boston   Cookies       Arrowroot        38   \n",
       "..         ...    ...          ...       ...             ...       ...   \n",
       "239 2021-12-18   East       Boston   Cookies       Arrowroot        34   \n",
       "240 2021-12-21   East       Boston   Cookies  Chocolate Chip       245   \n",
       "241 2021-12-24   East       Boston  Crackers     Whole Wheat        30   \n",
       "242 2021-12-27   West  Los Angeles      Bars            Bran        30   \n",
       "243 2021-12-30   West  Los Angeles   Cookies  Oatmeal Raisin        44   \n",
       "\n",
       "     UnitPrice  TotalPrice  Quantity_Sold  \n",
       "0         1.77       58.41             18  \n",
       "1         3.49      303.63             24  \n",
       "2         1.87      108.46             31  \n",
       "3         1.87      153.34             43  \n",
       "4         2.18       82.84             17  \n",
       "..         ...         ...            ...  \n",
       "239       2.18       74.12             15  \n",
       "240       1.87      458.15            131  \n",
       "241       3.49      104.70              8  \n",
       "242       1.87       56.10             16  \n",
       "243       2.84      124.96             15  \n",
       "\n",
       "[244 rows x 9 columns]"
      ]
     },
     "execution_count": 131,
     "metadata": {},
     "output_type": "execute_result"
    }
   ],
   "source": [
    "df"
   ]
  },
  {
   "cell_type": "code",
   "execution_count": 138,
   "id": "6d7ef54e",
   "metadata": {},
   "outputs": [],
   "source": [
    "ndf=df.select_dtypes('number')"
   ]
  },
  {
   "cell_type": "code",
   "execution_count": 139,
   "id": "650a56d7",
   "metadata": {},
   "outputs": [
    {
     "data": {
      "text/html": [
       "<div>\n",
       "<style scoped>\n",
       "    .dataframe tbody tr th:only-of-type {\n",
       "        vertical-align: middle;\n",
       "    }\n",
       "\n",
       "    .dataframe tbody tr th {\n",
       "        vertical-align: top;\n",
       "    }\n",
       "\n",
       "    .dataframe thead th {\n",
       "        text-align: right;\n",
       "    }\n",
       "</style>\n",
       "<table border=\"1\" class=\"dataframe\">\n",
       "  <thead>\n",
       "    <tr style=\"text-align: right;\">\n",
       "      <th></th>\n",
       "      <th>Quantity</th>\n",
       "      <th>UnitPrice</th>\n",
       "      <th>TotalPrice</th>\n",
       "      <th>Quantity_Sold</th>\n",
       "    </tr>\n",
       "  </thead>\n",
       "  <tbody>\n",
       "    <tr>\n",
       "      <th>0</th>\n",
       "      <td>33</td>\n",
       "      <td>1.77</td>\n",
       "      <td>58.41</td>\n",
       "      <td>18</td>\n",
       "    </tr>\n",
       "    <tr>\n",
       "      <th>1</th>\n",
       "      <td>87</td>\n",
       "      <td>3.49</td>\n",
       "      <td>303.63</td>\n",
       "      <td>24</td>\n",
       "    </tr>\n",
       "    <tr>\n",
       "      <th>2</th>\n",
       "      <td>58</td>\n",
       "      <td>1.87</td>\n",
       "      <td>108.46</td>\n",
       "      <td>31</td>\n",
       "    </tr>\n",
       "    <tr>\n",
       "      <th>3</th>\n",
       "      <td>82</td>\n",
       "      <td>1.87</td>\n",
       "      <td>153.34</td>\n",
       "      <td>43</td>\n",
       "    </tr>\n",
       "    <tr>\n",
       "      <th>4</th>\n",
       "      <td>38</td>\n",
       "      <td>2.18</td>\n",
       "      <td>82.84</td>\n",
       "      <td>17</td>\n",
       "    </tr>\n",
       "    <tr>\n",
       "      <th>...</th>\n",
       "      <td>...</td>\n",
       "      <td>...</td>\n",
       "      <td>...</td>\n",
       "      <td>...</td>\n",
       "    </tr>\n",
       "    <tr>\n",
       "      <th>239</th>\n",
       "      <td>34</td>\n",
       "      <td>2.18</td>\n",
       "      <td>74.12</td>\n",
       "      <td>15</td>\n",
       "    </tr>\n",
       "    <tr>\n",
       "      <th>240</th>\n",
       "      <td>245</td>\n",
       "      <td>1.87</td>\n",
       "      <td>458.15</td>\n",
       "      <td>131</td>\n",
       "    </tr>\n",
       "    <tr>\n",
       "      <th>241</th>\n",
       "      <td>30</td>\n",
       "      <td>3.49</td>\n",
       "      <td>104.70</td>\n",
       "      <td>8</td>\n",
       "    </tr>\n",
       "    <tr>\n",
       "      <th>242</th>\n",
       "      <td>30</td>\n",
       "      <td>1.87</td>\n",
       "      <td>56.10</td>\n",
       "      <td>16</td>\n",
       "    </tr>\n",
       "    <tr>\n",
       "      <th>243</th>\n",
       "      <td>44</td>\n",
       "      <td>2.84</td>\n",
       "      <td>124.96</td>\n",
       "      <td>15</td>\n",
       "    </tr>\n",
       "  </tbody>\n",
       "</table>\n",
       "<p>244 rows × 4 columns</p>\n",
       "</div>"
      ],
      "text/plain": [
       "     Quantity  UnitPrice  TotalPrice  Quantity_Sold\n",
       "0          33       1.77       58.41             18\n",
       "1          87       3.49      303.63             24\n",
       "2          58       1.87      108.46             31\n",
       "3          82       1.87      153.34             43\n",
       "4          38       2.18       82.84             17\n",
       "..        ...        ...         ...            ...\n",
       "239        34       2.18       74.12             15\n",
       "240       245       1.87      458.15            131\n",
       "241        30       3.49      104.70              8\n",
       "242        30       1.87       56.10             16\n",
       "243        44       2.84      124.96             15\n",
       "\n",
       "[244 rows x 4 columns]"
      ]
     },
     "execution_count": 139,
     "metadata": {},
     "output_type": "execute_result"
    }
   ],
   "source": [
    "ndf"
   ]
  },
  {
   "cell_type": "code",
   "execution_count": 140,
   "id": "a875d03b",
   "metadata": {},
   "outputs": [],
   "source": [
    "X=ndf.drop('TotalPrice',axis=True)\n",
    "\n",
    "y=ndf['TotalPrice']"
   ]
  },
  {
   "cell_type": "code",
   "execution_count": 141,
   "id": "c6d7ed92",
   "metadata": {},
   "outputs": [],
   "source": [
    "from sklearn.linear_model import LinearRegression"
   ]
  },
  {
   "cell_type": "code",
   "execution_count": 142,
   "id": "a731a703",
   "metadata": {},
   "outputs": [],
   "source": [
    "X_train, X_test, y_train, y_test = train_test_split(X, y, test_size=0.2, random_state=101)"
   ]
  },
  {
   "cell_type": "code",
   "execution_count": 143,
   "id": "e74ca26a",
   "metadata": {},
   "outputs": [
    {
     "data": {
      "text/plain": [
       "LinearRegression()"
      ]
     },
     "execution_count": 143,
     "metadata": {},
     "output_type": "execute_result"
    }
   ],
   "source": [
    "model.fit(X_train,y_train)"
   ]
  },
  {
   "cell_type": "code",
   "execution_count": 147,
   "id": "32770d4b",
   "metadata": {},
   "outputs": [],
   "source": [
    "test_prediction=model.predict(X_test)"
   ]
  },
  {
   "cell_type": "code",
   "execution_count": 152,
   "id": "451cc379",
   "metadata": {},
   "outputs": [],
   "source": [
    "x_coffiet=model.coef_"
   ]
  },
  {
   "cell_type": "code",
   "execution_count": 149,
   "id": "5811b74e",
   "metadata": {},
   "outputs": [
    {
     "data": {
      "text/plain": [
       "-13.447632205708828"
      ]
     },
     "execution_count": 149,
     "metadata": {},
     "output_type": "execute_result"
    }
   ],
   "source": [
    "model.intercept_"
   ]
  },
  {
   "cell_type": "code",
   "execution_count": 155,
   "id": "2dcfe323",
   "metadata": {},
   "outputs": [],
   "source": [
    "features=X"
   ]
  },
  {
   "cell_type": "code",
   "execution_count": 162,
   "id": "ff5e6db8",
   "metadata": {},
   "outputs": [],
   "source": [
    "new_column=pd.DataFrame(data=x_coffiet,columns=(['Cofficient']),index=features_x)"
   ]
  },
  {
   "cell_type": "code",
   "execution_count": 163,
   "id": "989bdb19",
   "metadata": {},
   "outputs": [
    {
     "data": {
      "text/html": [
       "<div>\n",
       "<style scoped>\n",
       "    .dataframe tbody tr th:only-of-type {\n",
       "        vertical-align: middle;\n",
       "    }\n",
       "\n",
       "    .dataframe tbody tr th {\n",
       "        vertical-align: top;\n",
       "    }\n",
       "\n",
       "    .dataframe thead th {\n",
       "        text-align: right;\n",
       "    }\n",
       "</style>\n",
       "<table border=\"1\" class=\"dataframe\">\n",
       "  <thead>\n",
       "    <tr style=\"text-align: right;\">\n",
       "      <th></th>\n",
       "      <th>Cofficient</th>\n",
       "    </tr>\n",
       "  </thead>\n",
       "  <tbody>\n",
       "    <tr>\n",
       "      <th>Quantity</th>\n",
       "      <td>4.551442</td>\n",
       "    </tr>\n",
       "    <tr>\n",
       "      <th>UnitPrice</th>\n",
       "      <td>5.797853</td>\n",
       "    </tr>\n",
       "    <tr>\n",
       "      <th>Quantity_Sold</th>\n",
       "      <td>-4.974899</td>\n",
       "    </tr>\n",
       "  </tbody>\n",
       "</table>\n",
       "</div>"
      ],
      "text/plain": [
       "               Cofficient\n",
       "Quantity         4.551442\n",
       "UnitPrice        5.797853\n",
       "Quantity_Sold   -4.974899"
      ]
     },
     "execution_count": 163,
     "metadata": {},
     "output_type": "execute_result"
    }
   ],
   "source": [
    "new_column"
   ]
  },
  {
   "cell_type": "code",
   "execution_count": 166,
   "id": "a3ac33f5",
   "metadata": {},
   "outputs": [
    {
     "name": "stderr",
     "output_type": "stream",
     "text": [
      "C:\\Users\\HP\\anaconda3\\lib\\site-packages\\seaborn\\_decorators.py:36: FutureWarning: Pass the following variables as keyword args: x, y. From version 0.12, the only valid positional argument will be `data`, and passing other arguments without an explicit keyword will result in an error or misinterpretation.\n",
      "  warnings.warn(\n"
     ]
    },
    {
     "data": {
      "image/png": "[encoded data removed]",
      "text/plain": [
       "<Figure size 432x288 with 1 Axes>"
      ]
     },
     "metadata": {},
     "output_type": "display_data"
    }
   ],
   "source": [
    "ff=sns.scatterplot(y_test,test_prediction);"
   ]
  },
  {
   "cell_type": "code",
   "execution_count": 168,
   "id": "5b27f192",
   "metadata": {},
   "outputs": [],
   "source": [
    "from sklearn.metrics import mean_absolute_error,mean_squared_error"
   ]
  },
  {
   "cell_type": "code",
   "execution_count": 170,
   "id": "63522200",
   "metadata": {},
   "outputs": [
    {
     "data": {
      "text/plain": [
       "3.9794692593883396"
      ]
     },
     "execution_count": 170,
     "metadata": {},
     "output_type": "execute_result"
    }
   ],
   "source": [
    "msn=mean_absolute_error(y_test,test_prediction)\n",
    "\n",
    "msn"
   ]
  },
  {
   "cell_type": "code",
   "execution_count": 171,
   "id": "a3402c43",
   "metadata": {},
   "outputs": [
    {
     "data": {
      "text/plain": [
       "34.568812210871336"
      ]
     },
     "execution_count": 171,
     "metadata": {},
     "output_type": "execute_result"
    }
   ],
   "source": [
    "mse=mean_squared_error(y_test,test_prediction)\n",
    "\n",
    "mse"
   ]
  },
  {
   "cell_type": "code",
   "execution_count": 172,
   "id": "a890aa55",
   "metadata": {},
   "outputs": [
    {
     "data": {
      "text/plain": [
       "5.879524828663566"
      ]
     },
     "execution_count": 172,
     "metadata": {},
     "output_type": "execute_result"
    }
   ],
   "source": [
    "np.sqrt(mse)"
   ]
  },
  {
   "cell_type": "code",
   "execution_count": 173,
   "id": "62acb5b2",
   "metadata": {},
   "outputs": [
    {
     "name": "stderr",
     "output_type": "stream",
     "text": [
      "C:\\Users\\HP\\anaconda3\\lib\\site-packages\\seaborn\\_decorators.py:36: FutureWarning: Pass the following variables as keyword args: x, y. From version 0.12, the only valid positional argument will be `data`, and passing other arguments without an explicit keyword will result in an error or misinterpretation.\n",
      "  warnings.warn(\n"
     ]
    },
    {
     "data": {
      "text/plain": [
       "<AxesSubplot:xlabel='TotalPrice'>"
      ]
     },
     "execution_count": 173,
     "metadata": {},
     "output_type": "execute_result"
    },
    {
     "data": {
      "image/png": "[encoded data removed]",
      "text/plain": [
       "<Figure size 432x288 with 1 Axes>"
      ]
     },
     "metadata": {},
     "output_type": "display_data"
    }
   ],
   "source": [
    "sns.regplot(y_test,test_prediction)"
   ]
  },
  {
   "cell_type": "code",
   "execution_count": null,
   "id": "ca399535",
   "metadata": {},
   "outputs": [],
   "source": []
  }
 ],
 "metadata": {
  "kernelspec": {
   "display_name": "Python 3 (ipykernel)",
   "language": "python",
   "name": "python3"
  },
  "language_info": {
   "codemirror_mode": {
    "name": "ipython",
    "version": 3
   },
   "file_extension": ".py",
   "mimetype": "text/x-python",
   "name": "python",
   "nbconvert_exporter": "python",
   "pygments_lexer": "ipython3",
   "version": "3.9.12"
  }
 },
 "nbformat": 4,
 "nbformat_minor": 5
}
